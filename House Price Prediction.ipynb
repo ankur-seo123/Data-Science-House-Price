{
 "cells": [
  {
   "cell_type": "code",
   "execution_count": 2,
   "id": "f2542eb4",
   "metadata": {},
   "outputs": [],
   "source": [
    "import os\n",
    "import numpy as np\n",
    "import pandas as pd\n",
    "import matplotlib.pyplot as plt\n",
    "import seaborn as sns\n",
    "from sklearn.pipeline import Pipeline\n",
    "from sklearn.preprocessing import StandardScaler, OneHotEncoder\n",
    "from sklearn.impute import SimpleImputer\n",
    "from sklearn.compose import ColumnTransformer\n",
    "from sklearn.model_selection import train_test_split, cross_val_score\n",
    "from sklearn.ensemble import RandomForestRegressor, GradientBoostingRegressor, StackingRegressor\n",
    "from sklearn.tree import DecisionTreeRegressor\n",
    "from sklearn.linear_model import LinearRegression\n",
    "from sklearn.metrics import mean_squared_error, r2_score\n",
    "from sklearn.model_selection import RandomizedSearchCV\n",
    "import kagglehub"
   ]
  },
  {
   "cell_type": "code",
   "execution_count": 3,
   "id": "b4023058",
   "metadata": {},
   "outputs": [
    {
     "name": "stdout",
     "output_type": "stream",
     "text": [
      "C:\\Users\\Dell\\PROJECT FOR DATA SCIENCE\n"
     ]
    }
   ],
   "source": [
    "print(os.getcwd())"
   ]
  },
  {
   "cell_type": "code",
   "execution_count": 2,
   "id": "f1300f14",
   "metadata": {},
   "outputs": [
    {
     "name": "stdout",
     "output_type": "stream",
     "text": [
      "Warning: Looks like you're using an outdated `kagglehub` version, please consider updating (latest version: 0.3.8)\n"
     ]
    }
   ],
   "source": [
    "\n",
    "# Load dataset\n",
    "dataset_path = kagglehub.dataset_download(\"yasserh/housing-prices-dataset\")\n",
    "file_path = os.path.join(dataset_path, 'Housing.csv')\n",
    "df = pd.read_csv(file_path)\n"
   ]
  },
  {
   "cell_type": "code",
   "execution_count": 3,
   "id": "1d06d2a4",
   "metadata": {},
   "outputs": [],
   "source": [
    "\n",
    "# Feature Engineering\n",
    "df[\"total_rooms\"] = df[\"bedrooms\"] + df[\"bathrooms\"]\n",
    "df[\"price_per_sqft\"] = df[\"price\"] / df[\"area\"]\n",
    "df[\"bed_bath_ratio\"] = df[\"bedrooms\"] / (df[\"bathrooms\"] + 1)\n"
   ]
  },
  {
   "cell_type": "code",
   "execution_count": 4,
   "id": "65385c88",
   "metadata": {},
   "outputs": [],
   "source": [
    "# Log Transformation for Skewed Data\n",
    "df['price'] = np.log1p(df['price'])\n"
   ]
  },
  {
   "cell_type": "code",
   "execution_count": 5,
   "id": "dfb5f73c",
   "metadata": {},
   "outputs": [],
   "source": [
    "# Define numerical & categorical features\n",
    "num_features = [\"area\", \"bedrooms\", \"bathrooms\", \"stories\", \"parking\", \"total_rooms\", \"price_per_sqft\", \"bed_bath_ratio\"]\n",
    "cat_features = [\"mainroad\", \"guestroom\", \"basement\", \"hotwaterheating\", \"airconditioning\", \"prefarea\", \"furnishingstatus\"]\n"
   ]
  },
  {
   "cell_type": "code",
   "execution_count": 6,
   "id": "6c12d670",
   "metadata": {},
   "outputs": [],
   "source": [
    "# Preprocessing Pipelines\n",
    "num_pipeline = Pipeline([\n",
    "    (\"imputer\", SimpleImputer(strategy=\"mean\")),\n",
    "    (\"scaler\", StandardScaler())\n",
    "])\n",
    "\n",
    "cat_pipeline = Pipeline([\n",
    "    (\"imputer\", SimpleImputer(strategy=\"most_frequent\")),\n",
    "    (\"encoder\", OneHotEncoder(handle_unknown=\"ignore\", drop=\"first\"))\n",
    "])\n",
    "\n",
    "preprocessor = ColumnTransformer([\n",
    "    (\"num\", num_pipeline, num_features),\n",
    "    (\"cat\", cat_pipeline, cat_features)\n",
    "])\n"
   ]
  },
  {
   "cell_type": "code",
   "execution_count": 7,
   "id": "de9e46f4",
   "metadata": {},
   "outputs": [],
   "source": [
    "# Prepare dataset\n",
    "X = df.drop(\"price\", axis=1)\n",
    "y = df[\"price\"]\n",
    "X_train, X_test, y_train, y_test = train_test_split(X, y, test_size=0.2, random_state=42)\n"
   ]
  },
  {
   "cell_type": "code",
   "execution_count": 8,
   "id": "375ef895",
   "metadata": {},
   "outputs": [],
   "source": [
    "# Apply transformation\n",
    "X_train = preprocessor.fit_transform(X_train)\n",
    "X_test = preprocessor.transform(X_test)\n",
    "feature_names = preprocessor.get_feature_names_out()\n",
    "X_train_df = pd.DataFrame(X_train, columns=feature_names)\n",
    "X_test_df = pd.DataFrame(X_test, columns=feature_names)"
   ]
  },
  {
   "cell_type": "code",
   "execution_count": 9,
   "id": "4e2b3396",
   "metadata": {},
   "outputs": [],
   "source": [
    "# Train Random Forest for Feature Importance\n",
    "rf = RandomForestRegressor(n_estimators=100, random_state=42)\n",
    "rf.fit(X_train_df, y_train)\n",
    "feature_importance = pd.Series(rf.feature_importances_, index=X_train_df.columns)\n",
    "top_features = feature_importance.sort_values(ascending=False)[:10]\n"
   ]
  },
  {
   "cell_type": "code",
   "execution_count": 10,
   "id": "900c3787",
   "metadata": {},
   "outputs": [],
   "source": [
    "# Select Important Features\n",
    "selected_features = feature_importance[feature_importance > 0.01].index.tolist()\n",
    "X_train_filtered = X_train_df[selected_features]\n",
    "X_test_filtered = X_test_df[selected_features]\n"
   ]
  },
  {
   "cell_type": "code",
   "execution_count": 11,
   "id": "b9cba974",
   "metadata": {},
   "outputs": [],
   "source": [
    "# Hyperparameter Tuning for Random Forest\n",
    "param_grid = {\n",
    "    'n_estimators': [50, 100, 200],\n",
    "    'max_depth': [None, 10, 20],\n",
    "    'min_samples_split': [2, 5, 10]\n",
    "}\n",
    "\n",
    "tuned_rf = RandomizedSearchCV(RandomForestRegressor(random_state=42), param_grid, cv=3, n_jobs=-1)\n",
    "tuned_rf.fit(X_train_filtered, y_train)\n",
    "y_pred = tuned_rf.best_estimator_.predict(X_test_filtered)\n"
   ]
  },
  {
   "cell_type": "code",
   "execution_count": 12,
   "id": "59831806",
   "metadata": {},
   "outputs": [
    {
     "name": "stdout",
     "output_type": "stream",
     "text": [
      "Optimized RF Model RMSE: 0.07\n",
      "Optimized RF R² Score: 0.97\n"
     ]
    }
   ],
   "source": [
    "# Evaluate Model\n",
    "rmse = np.sqrt(mean_squared_error(y_test, y_pred))\n",
    "r2 = r2_score(y_test, y_pred)\n",
    "print(f\"Optimized RF Model RMSE: {rmse:.2f}\")\n",
    "print(f\"Optimized RF R² Score: {r2:.2f}\")\n",
    "\n",
    "# Stacking Regressor\n",
    "stacked_model = StackingRegressor(\n",
    "    estimators=[\n",
    "        ('rf', RandomForestRegressor(n_estimators=100, random_state=42)),\n",
    "        ('gb', GradientBoostingRegressor(n_estimators=100, learning_rate=0.1, random_state=42)),\n",
    "        ('dt', DecisionTreeRegressor())\n",
    "    ],\n",
    "    final_estimator=LinearRegression()\n",
    ")\n",
    "stacked_model.fit(X_train_filtered, y_train)\n",
    "y_pred_stack = stacked_model.predict(X_test_filtered)"
   ]
  },
  {
   "cell_type": "code",
   "execution_count": 13,
   "id": "b2eb276b",
   "metadata": {},
   "outputs": [
    {
     "name": "stdout",
     "output_type": "stream",
     "text": [
      "Stacked Model RMSE: 0.04\n",
      "Stacked Model R² Score: 0.99\n"
     ]
    }
   ],
   "source": [
    "# Evaluate Stacked Model\n",
    "rmse_stack = np.sqrt(mean_squared_error(y_test, y_pred_stack))\n",
    "r2_stack = r2_score(y_test, y_pred_stack)\n",
    "print(f\"Stacked Model RMSE: {rmse_stack:.2f}\")\n",
    "print(f\"Stacked Model R² Score: {r2_stack:.2f}\")\n"
   ]
  },
  {
   "cell_type": "code",
   "execution_count": 14,
   "id": "c2b856c6",
   "metadata": {
    "scrolled": true
   },
   "outputs": [
    {
     "data": {
      "image/png": "[encoded data removed]",
      "text/plain": [
       "<Figure size 1000x500 with 1 Axes>"
      ]
     },
     "metadata": {},
     "output_type": "display_data"
    }
   ],
   "source": [
    "# Feature Importance Plot\n",
    "plt.figure(figsize=(10, 5))\n",
    "top_features.plot(kind=\"barh\", color=\"teal\")\n",
    "plt.title(\"Top 10 Important Features\")\n",
    "plt.show()\n"
   ]
  }
 ],
 "metadata": {
  "kernelspec": {
   "display_name": "Python 3 (ipykernel)",
   "language": "python",
   "name": "python3"
  },
  "language_info": {
   "codemirror_mode": {
    "name": "ipython",
    "version": 3
   },
   "file_extension": ".py",
   "mimetype": "text/x-python",
   "name": "python",
   "nbconvert_exporter": "python",
   "pygments_lexer": "ipython3",
   "version": "3.10.9"
  }
 },
 "nbformat": 4,
 "nbformat_minor": 5
}
